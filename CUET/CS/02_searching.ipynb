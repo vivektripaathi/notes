{
 "cells": [
  {
   "attachments": {},
   "cell_type": "markdown",
   "metadata": {},
   "source": [
    "# Searching Algorithms\n",
    "Searching Algorithms are designed to check for an element or retrieve an element from any data structure where it is stored."
   ]
  },
  {
   "attachments": {},
   "cell_type": "markdown",
   "metadata": {},
   "source": [
    "# Linear Search\n",
    "Linear Search is defined as a sequential search algorithm that starts at one end and goes through each element of a list until the desired element is found, otherwise the search continues till the end of the data set.\n",
    "![Linear Search](https://media.geeksforgeeks.org/wp-content/cdn-uploads/Linear-Search.png)"
   ]
  },
  {
   "cell_type": "code",
   "execution_count": null,
   "metadata": {},
   "outputs": [],
   "source": [
    "def linearSearch(arr,key):\n",
    "    array_length = len(arr)\n",
    "    for i in range(array_length):\n",
    "        if arr[i] == key:\n",
    "            return i\n",
    "    return -1"
   ]
  },
  {
   "attachments": {},
   "cell_type": "markdown",
   "metadata": {},
   "source": [
    "## Complexity Analysis of Linear Search:\n",
    "\n",
    "### Time Complexity:\n",
    "- Best Case: In the best case, the key might be present at the first index. So the best case complexity is O(1)\n",
    "- Worst Case: In the worst case, the key might be present at the last index i.e., opposite to the end from which the search has started in the list. So the worst case complexity is O(N) where N is the size of the list.\n",
    "- Average Case: O(N)\n",
    "\n",
    "### Space Complexity:\n",
    "- O(1) as except the variable to iterate through the list, no other variable is used."
   ]
  },
  {
   "attachments": {},
   "cell_type": "markdown",
   "metadata": {},
   "source": [
    "# Binary Search\n",
    "Binary Search is defined as a searching algorithm used in a sorted array by repeatedly dividing the search interval in half. The idea of binary search is to use the information that the array is sorted and reduce the time complexity to O(log N). \n",
    "![Binary Search Example](https://media.geeksforgeeks.org/wp-content/uploads/20220309171621/BinarySearch.png)"
   ]
  },
  {
   "cell_type": "code",
   "execution_count": null,
   "metadata": {},
   "outputs": [],
   "source": [
    "def binarySearch(arr,key):\n",
    "    right_pointer = len(arr)-1\n",
    "    left_pointer = 0\n",
    "    while left_pointer <= right_pointer:\n",
    "        mid = left_pointer + (right_pointer - 1)//2\n",
    "        if arr[mid] == key:\n",
    "            return mid\n",
    "        if arr[mid] < key :\n",
    "            left_pointer = mid + 1\n",
    "        else :\n",
    "            right_pointer = mid - 1\n",
    "    return -1"
   ]
  },
  {
   "attachments": {},
   "cell_type": "markdown",
   "metadata": {},
   "source": [
    "## Complexity analysis of Binary Search\n",
    "### Time Complexity\n",
    "- Best Case - Best case is when the element is at the middle index of the array. It takes only one comparison to find the target element. So the best case complexity is O(1).\n",
    "- Worst Case - The worst case will be when the element is present in the first position. As seen in the average case, the comparison required to reach the first element is logN. So the time complexity for the worst case is O(logN).\n",
    "- Average Case - The average case complexity is O(logN)\n",
    "### Space Complexity\n",
    "- O(1) as no extra space is used"
   ]
  },
  {
   "cell_type": "code",
   "execution_count": null,
   "metadata": {},
   "outputs": [],
   "source": [
    "if __name__ == \"__main__\":\n",
    "    arr = [2, 4, 6, 8, 10]\n",
    "    key = 10\n",
    "    index = linearSearch(arr, key)\n",
    "    if index == -1:\n",
    "        print(\"Element is not present in array\")\n",
    "    else:\n",
    "        print(\"Element is present at {}\".format(index))"
   ]
  }
 ],
 "metadata": {
  "language_info": {
   "name": "python"
  },
  "orig_nbformat": 4
 },
 "nbformat": 4,
 "nbformat_minor": 2
}
