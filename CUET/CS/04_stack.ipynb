{
 "cells": [
  {
   "attachments": {},
   "cell_type": "markdown",
   "metadata": {},
   "source": [
    "# Stack\n",
    "It is a linear data structure that stores items in a LIFO(Last In/First Out) or FILO(First In/Last Out) manner.\n",
    "![Stack Diagram](https://media.geeksforgeeks.org/wp-content/cdn-uploads/20221219100314/stack.drawio2.png)\n",
    "## Operations \n",
    "- **empty()** – Returns whether the stack is empty – Time Complexity: O(1)\n",
    "- **size()** – Returns the size of the stack – Time Complexity: O(1)\n",
    "- **top() / peek()** – Returns a reference to the topmost element of the stack – Time Complexity: O(1)\n",
    "- **push(a)** – Inserts the element ‘a’ at the top of the stack – Time Complexity: O(1)\n",
    "- **pop()** – Deletes the topmost element of the stack – Time Complexity: O(1)"
   ]
  },
  {
   "cell_type": "code",
   "execution_count": null,
   "metadata": {},
   "outputs": [],
   "source": [
    "stack = []\n",
    "# Instead of push() append() is used in List for instertion\n",
    "stack.append('a')\n",
    "stack.append('b')\n",
    "stack.append('c')\n",
    "stack.append('1')\n",
    "stack.append('2')\n",
    "print(\"Initial Stack = {}\".format(stack))\n",
    "print(\"Elements popped from stack are {}, {}, {}\".format(stack.pop(),stack.pop(),stack.pop()))\n",
    "print(\"\\n stack after elements are popped :{}\".format(stack))\n"
   ]
  },
  {
   "attachments": {},
   "cell_type": "markdown",
   "metadata": {},
   "source": [
    "# Definition of Infix Prefix and Postfix\n",
    "- **Infix:** The typical mathematical form of expression that we encounter generally is known as infix notation. In infix form, an operator is written in between two operands. **ex** - A * ( B + C ) / D\n",
    "- **Prefix:** In prefix expression, an operator is written before its operands. This notation is also known as “Polish notation”. **ex** - */A+BCD\n",
    "- **Postfix:** In postfix expression, an operator is written after its operands. This notation is also known as “Reverse Polish notation”. **ex** - ABC+*D/\n",
    "![Infix Prefix Postfix Example](https://prepinsta.com/wp-content/uploads/2023/02/Infix-postfix-prefix-conversionstack.webp)"
   ]
  }
 ],
 "metadata": {
  "kernelspec": {
   "display_name": "base",
   "language": "python",
   "name": "python3"
  },
  "language_info": {
   "codemirror_mode": {
    "name": "ipython",
    "version": 3
   },
   "file_extension": ".py",
   "mimetype": "text/x-python",
   "name": "python",
   "nbconvert_exporter": "python",
   "pygments_lexer": "ipython3",
   "version": "3.9.13"
  },
  "orig_nbformat": 4
 },
 "nbformat": 4,
 "nbformat_minor": 2
}
