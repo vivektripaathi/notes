{
 "cells": [
  {
   "attachments": {},
   "cell_type": "markdown",
   "metadata": {},
   "source": [
    "# Queue \n",
    "A linear data structue that stores items in First In First Out(FIFO) manner.\n",
    "![Queue](https://media.geeksforgeeks.org/wp-content/cdn-uploads/20221213113312/Queue-Data-Structures.png)\n",
    "## Operations \n",
    "- **Enqueue** : Adds item to the queue. If the queue is full, then it is said to ba an overflow condition. **Time Complexity** : 0(1).\n",
    "- **Dequeue** : Removes an item from the queue.If the queue is empty, then it is said to be an Underflow condition – **Time Complexity** : O(1)\n",
    "- **Front** : Get the front item from queue – **Time Complexity** : O(1)\n",
    "- **Rear** : Get the last item from queue – **Time Complexity** : O(1)"
   ]
  },
  {
   "cell_type": "code",
   "execution_count": null,
   "metadata": {},
   "outputs": [],
   "source": [
    "queue = []\n",
    "queue.append('v')\n",
    "queue.append('k')\n",
    "queue.append('1')\n",
    "queue.append('8')\n",
    "print(\"Initial Queue : {}\".format(queue))\n",
    "queue.pop(0)\n",
    "queue.pop(0)\n",
    "queue.pop(0)\n",
    "print(\"Queue after dequeing few elements : {}\".format(queue))"
   ]
  },
  {
   "attachments": {},
   "cell_type": "markdown",
   "metadata": {},
   "source": [
    "# Deque(Double Ended Queue)\n",
    "Deque is preferred over a list in the cases where we need quicker append and pop operations from both the ends of the container, as deque provides an O(1) time complexity for append and pop operations as compared to a list that provides O(n) time complexity.\n",
    "- Implemented using **collection** module.\n",
    "![](https://media.geeksforgeeks.org/wp-content/uploads/anod.png)\n",
    "## Operations\n",
    "- **Appending Item** - append() and appendleft() is used.\n",
    "- **Popping Element** - pop() and popleft() is used."
   ]
  },
  {
   "cell_type": "code",
   "execution_count": null,
   "metadata": {},
   "outputs": [],
   "source": [
    "from collections import deque\n",
    "deque = deque([1,2,34,5,6])\n",
    "print(\"Initial Deque : {}\".format(deque))\n",
    "deque.append(7)\n",
    "print(\"Deque after Append : {}\".format(deque))\n",
    "deque.appendleft(0)\n",
    "print(\"Deque after Append : {}\".format(deque))\n",
    "deque.pop()\n",
    "print(\"Deque after pop : {}\".format(deque))\n",
    "deque.popleft()\n",
    "print(\"Deque after popleft : {}\".format(deque))"
   ]
  }
 ],
 "metadata": {
  "kernelspec": {
   "display_name": "base",
   "language": "python",
   "name": "python3"
  },
  "language_info": {
   "codemirror_mode": {
    "name": "ipython",
    "version": 3
   },
   "file_extension": ".py",
   "mimetype": "text/x-python",
   "name": "python",
   "nbconvert_exporter": "python",
   "pygments_lexer": "ipython3",
   "version": "3.9.13"
  },
  "orig_nbformat": 4
 },
 "nbformat": 4,
 "nbformat_minor": 2
}
